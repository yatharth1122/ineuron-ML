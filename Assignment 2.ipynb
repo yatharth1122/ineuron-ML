{
 "cells": [
  {
   "cell_type": "markdown",
   "metadata": {},
   "source": [
    "Question 1\n"
   ]
  },
  {
   "cell_type": "code",
   "execution_count": 1,
   "metadata": {},
   "outputs": [
    {
     "name": "stdout",
     "output_type": "stream",
     "text": [
      "*\t\n",
      "\n",
      "*\t*\t\n",
      "\n",
      "*\t*\t*\t\n",
      "\n",
      "*\t*\t*\t*\t\n",
      "\n",
      "*\t*\t*\t*\t*\t\n",
      "\n",
      "*\t*\t*\t*\t\n",
      "\n",
      "*\t*\t*\t\n",
      "\n",
      "*\t*\t\n",
      "\n",
      "*\t\n",
      "\n"
     ]
    }
   ],
   "source": [
    "# Using nested for loop for upper half\n",
    "for i in range(0,5):\n",
    "    for j in range(0,5):\n",
    "        if(i>=j):                   # Checking necessary condition for upper half \n",
    "            print(\"*\",end='\\t')\n",
    "    print('\\n')\n",
    "\n",
    "\n",
    "# Using nested for loop for lower half    \n",
    "for i in range(0,4):\n",
    "    for j in range(4,0,-1):\n",
    "        if(i<j):                   # Checking necessary condition for lower half\n",
    "            print(\"*\",end='\\t')\n",
    "    print('\\n')"
   ]
  },
  {
   "cell_type": "markdown",
   "metadata": {},
   "source": [
    "Question 2"
   ]
  },
  {
   "cell_type": "code",
   "execution_count": 2,
   "metadata": {},
   "outputs": [
    {
     "name": "stdout",
     "output_type": "stream",
     "text": [
      "Input word: ineuron\n",
      "Output: norueni\n"
     ]
    }
   ],
   "source": [
    "# Accepting a string from user\n",
    "s=input(\"Input word: \")\n",
    "\n",
    "# Using string slicing obtaining desired output\n",
    "print(\"Output:\",s[::-1])"
   ]
  }
 ],
 "metadata": {
  "kernelspec": {
   "display_name": "Python 3",
   "language": "python",
   "name": "python3"
  },
  "language_info": {
   "codemirror_mode": {
    "name": "ipython",
    "version": 3
   },
   "file_extension": ".py",
   "mimetype": "text/x-python",
   "name": "python",
   "nbconvert_exporter": "python",
   "pygments_lexer": "ipython3",
   "version": "3.7.4"
  }
 },
 "nbformat": 4,
 "nbformat_minor": 2
}
