{
 "cells": [
  {
   "cell_type": "markdown",
   "metadata": {},
   "source": [
    " Question 1"
   ]
  },
  {
   "cell_type": "code",
   "execution_count": 1,
   "metadata": {},
   "outputs": [],
   "source": [
    "class sidesinput :                                     # Creating a class that takes sides as a input\n",
    "    def __init__(self,a,b,c):\n",
    "        self.a=a\n",
    "        self.b=b\n",
    "        self.c=c\n",
    "\n",
    "    def __str__(self):\n",
    "        return \"The sides are %d ,%d and %d\" % (self.a,self.b,self.c)\n",
    "    "
   ]
  },
  {
   "cell_type": "code",
   "execution_count": 2,
   "metadata": {},
   "outputs": [
    {
     "name": "stdout",
     "output_type": "stream",
     "text": [
      "The sides are 3 ,4 and 5\n"
     ]
    }
   ],
   "source": [
    "s=sidesinput(3,4,5)                                   # Creating an object of class\n",
    "print(s)                                             "
   ]
  },
  {
   "cell_type": "code",
   "execution_count": 3,
   "metadata": {},
   "outputs": [],
   "source": [
    "class areaclass(sidesinput):                         # Creating another child class for calculation of area\n",
    "    \n",
    "    sum= s.a+s.b+s.c\n",
    "    area=(sum*(sum-s.a)*(sum-s.b)*(sum-s.c))**0.5\n",
    "    \n",
    "    def __str__(self):\n",
    "        return \"The area is %d \" % (areaclass.area)\n",
    "        "
   ]
  },
  {
   "cell_type": "code",
   "execution_count": 4,
   "metadata": {},
   "outputs": [
    {
     "name": "stdout",
     "output_type": "stream",
     "text": [
      "The area is 77 \n"
     ]
    }
   ],
   "source": [
    "a=areaclass(3,4,5)                                  # Creating object of class and printing desired output\n",
    "print(a)"
   ]
  },
  {
   "cell_type": "markdown",
   "metadata": {},
   "source": [
    "Question 2\n"
   ]
  },
  {
   "cell_type": "code",
   "execution_count": 5,
   "metadata": {},
   "outputs": [],
   "source": [
    "def filter_long_words(l,n):                         # Creating a function that inputs a list and a number\n",
    "    a=[]\n",
    "    for i in l:\n",
    "        if (len(i)>n):                              # Checking the necessary condition\n",
    "            a.append(i)\n",
    "    return a"
   ]
  },
  {
   "cell_type": "code",
   "execution_count": 6,
   "metadata": {},
   "outputs": [
    {
     "name": "stdout",
     "output_type": "stream",
     "text": [
      "['abcd', 'abcde', 'abcdef']\n"
     ]
    }
   ],
   "source": [
    "l=[\"a\",\"ab\",\"abc\",\"abcd\",\"abcde\",\"abcdef\"]          # Input a sample list\n",
    "l=filter_long_words(l,3)                            # Calling the function\n",
    "print(l)"
   ]
  },
  {
   "cell_type": "markdown",
   "metadata": {},
   "source": [
    "Question 3"
   ]
  },
  {
   "cell_type": "code",
   "execution_count": 7,
   "metadata": {},
   "outputs": [
    {
     "name": "stdout",
     "output_type": "stream",
     "text": [
      "[2, 3, 4]\n"
     ]
    }
   ],
   "source": [
    "def func(l):\n",
    "    return len(l)                                  # Define a function to calculate length of a word\n",
    "\n",
    "l=['ab','cde','erty']\n",
    "\n",
    "output=list(map(func,l))                           # Using map function to iterate through full list\n",
    "print(output)\n"
   ]
  },
  {
   "cell_type": "code",
   "execution_count": 8,
   "metadata": {},
   "outputs": [],
   "source": [
    "def vowel(s):                                                   # Creating a function to check the input\n",
    "    if(s=='a' or s=='e' or s=='i' or s=='o' or s=='u'):\n",
    "        return True\n",
    "    else :\n",
    "        return False\n",
    "    "
   ]
  },
  {
   "cell_type": "code",
   "execution_count": 9,
   "metadata": {},
   "outputs": [
    {
     "data": {
      "text/plain": [
       "True"
      ]
     },
     "execution_count": 9,
     "metadata": {},
     "output_type": "execute_result"
    }
   ],
   "source": [
    "vowel('e')                                                      # Calling the function"
   ]
  },
  {
   "cell_type": "code",
   "execution_count": 10,
   "metadata": {},
   "outputs": [
    {
     "data": {
      "text/plain": [
       "False"
      ]
     },
     "execution_count": 10,
     "metadata": {},
     "output_type": "execute_result"
    }
   ],
   "source": [
    "vowel('b')                                                      # Calling the function"
   ]
  }
 ],
 "metadata": {
  "kernelspec": {
   "display_name": "Python 3",
   "language": "python",
   "name": "python3"
  },
  "language_info": {
   "codemirror_mode": {
    "name": "ipython",
    "version": 3
   },
   "file_extension": ".py",
   "mimetype": "text/x-python",
   "name": "python",
   "nbconvert_exporter": "python",
   "pygments_lexer": "ipython3",
   "version": "3.7.4"
  }
 },
 "nbformat": 4,
 "nbformat_minor": 2
}
